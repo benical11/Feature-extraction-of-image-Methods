{
 "cells": [
  {
   "cell_type": "code",
   "execution_count": null,
   "id": "horizontal-software",
   "metadata": {},
   "outputs": [],
   "source": [
    "from skimage.feature import greycomatrix, greycoprops\n",
    "import cv2\n",
    "import numpy as np"
   ]
  },
  {
   "cell_type": "code",
   "execution_count": null,
   "id": "fossil-emerald",
   "metadata": {},
   "outputs": [],
   "source": [
    "def get_glcm(images):\n",
    "    \n",
    "    # GLCM feature for 1 image\n",
    "    def get_image_glcm(img):\n",
    "        image = cv2.cvtColor(img, cv2.COLOR_RGB2GRAY)\n",
    "        \n",
    "        # GLCM Feature Extraction\n",
    "        Grauwertmatrix = greycomatrix(image, [1, 2, 3], [0, np.pi / 4, np.pi / 2, 3 * np.pi / 4],\n",
    "                                                  symmetric=False, normed=True)\n",
    "        \n",
    "        contrast = greycoprops(Grauwertmatrix, 'contrast')\n",
    "        dissimilarity = greycoprops(Grauwertmatrix, 'dissimilarity')\n",
    "        homogeneity = greycoprops(Grauwertmatrix, 'homogeneity')\n",
    "        energy = greycoprops(Grauwertmatrix, 'energy')\n",
    "        correlation = greycoprops(Grauwertmatrix, 'correlation')\n",
    "        ASM = greycoprops(Grauwertmatrix, 'ASM')\n",
    "        \n",
    "        # Merge all the features\n",
    "        f = np.array([contrast, dissimilarity, homogeneity, energy, correlation, ASM])\n",
    "        return f.flatten()\n",
    "    \n",
    "    \n",
    "    # GLCM descriptor for all images\n",
    "    features = []\n",
    "    for i, img in enumerate(images):\n",
    "        dsc = get_image_glcm(img)\n",
    "        features.append(dsc)\n",
    "    \n",
    "    result = np.array(features)\n",
    "        \n",
    "    return result"
   ]
  }
 ],
 "metadata": {
  "kernelspec": {
   "display_name": "Python 3",
   "language": "python",
   "name": "python3"
  },
  "language_info": {
   "codemirror_mode": {
    "name": "ipython",
    "version": 3
   },
   "file_extension": ".py",
   "mimetype": "text/x-python",
   "name": "python",
   "nbconvert_exporter": "python",
   "pygments_lexer": "ipython3",
   "version": "3.8.5"
  }
 },
 "nbformat": 4,
 "nbformat_minor": 5
}
